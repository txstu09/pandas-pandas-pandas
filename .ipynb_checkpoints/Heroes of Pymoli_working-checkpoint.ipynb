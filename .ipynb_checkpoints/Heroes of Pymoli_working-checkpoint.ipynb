{
 "cells": [
  {
   "cell_type": "code",
   "execution_count": 2,
   "metadata": {
    "collapsed": true
   },
   "outputs": [],
   "source": [
    "import os\n",
    "import pandas as pd\n",
    "import numpy as np\n",
    "\n",
    "purchase_file_1 = os.path.join('purchase_data.json')\n",
    "purchase_file_2 = os.path.join('purchase_data2.json')\n",
    "\n",
    "record1 = pd.read_json(purchase_file_1, orient='records')\n",
    "record2 = pd.read_json(purchase_file_2, orient='records')"
   ]
  },
  {
   "cell_type": "code",
   "execution_count": 3,
   "metadata": {},
   "outputs": [
    {
     "data": {
      "text/html": [
       "<div>\n",
       "<style>\n",
       "    .dataframe thead tr:only-child th {\n",
       "        text-align: right;\n",
       "    }\n",
       "\n",
       "    .dataframe thead th {\n",
       "        text-align: left;\n",
       "    }\n",
       "\n",
       "    .dataframe tbody tr th {\n",
       "        vertical-align: top;\n",
       "    }\n",
       "</style>\n",
       "<table border=\"1\" class=\"dataframe\">\n",
       "  <thead>\n",
       "    <tr style=\"text-align: right;\">\n",
       "      <th></th>\n",
       "      <th>Age</th>\n",
       "      <th>Gender</th>\n",
       "      <th>Item ID</th>\n",
       "      <th>Item Name</th>\n",
       "      <th>Price</th>\n",
       "      <th>SN</th>\n",
       "    </tr>\n",
       "  </thead>\n",
       "  <tbody>\n",
       "    <tr>\n",
       "      <th>0</th>\n",
       "      <td>38</td>\n",
       "      <td>Male</td>\n",
       "      <td>165</td>\n",
       "      <td>Bone Crushing Silver Skewer</td>\n",
       "      <td>3.37</td>\n",
       "      <td>Aelalis34</td>\n",
       "    </tr>\n",
       "    <tr>\n",
       "      <th>1</th>\n",
       "      <td>21</td>\n",
       "      <td>Male</td>\n",
       "      <td>119</td>\n",
       "      <td>Stormbringer, Dark Blade of Ending Misery</td>\n",
       "      <td>2.32</td>\n",
       "      <td>Eolo46</td>\n",
       "    </tr>\n",
       "    <tr>\n",
       "      <th>2</th>\n",
       "      <td>34</td>\n",
       "      <td>Male</td>\n",
       "      <td>174</td>\n",
       "      <td>Primitive Blade</td>\n",
       "      <td>2.46</td>\n",
       "      <td>Assastnya25</td>\n",
       "    </tr>\n",
       "    <tr>\n",
       "      <th>3</th>\n",
       "      <td>21</td>\n",
       "      <td>Male</td>\n",
       "      <td>92</td>\n",
       "      <td>Final Critic</td>\n",
       "      <td>1.36</td>\n",
       "      <td>Pheusrical25</td>\n",
       "    </tr>\n",
       "    <tr>\n",
       "      <th>4</th>\n",
       "      <td>23</td>\n",
       "      <td>Male</td>\n",
       "      <td>63</td>\n",
       "      <td>Stormfury Mace</td>\n",
       "      <td>1.27</td>\n",
       "      <td>Aela59</td>\n",
       "    </tr>\n",
       "  </tbody>\n",
       "</table>\n",
       "</div>"
      ],
      "text/plain": [
       "   Age Gender  Item ID                                  Item Name  Price  \\\n",
       "0   38   Male      165                Bone Crushing Silver Skewer   3.37   \n",
       "1   21   Male      119  Stormbringer, Dark Blade of Ending Misery   2.32   \n",
       "2   34   Male      174                            Primitive Blade   2.46   \n",
       "3   21   Male       92                               Final Critic   1.36   \n",
       "4   23   Male       63                             Stormfury Mace   1.27   \n",
       "\n",
       "             SN  \n",
       "0     Aelalis34  \n",
       "1        Eolo46  \n",
       "2   Assastnya25  \n",
       "3  Pheusrical25  \n",
       "4        Aela59  "
      ]
     },
     "execution_count": 3,
     "metadata": {},
     "output_type": "execute_result"
    }
   ],
   "source": [
    "#Concatenate purchase records\n",
    "purchase_record = pd.concat([record1, record2])\n",
    "purchase_record.head()"
   ]
  },
  {
   "cell_type": "code",
   "execution_count": 67,
   "metadata": {},
   "outputs": [
    {
     "data": {
      "text/html": [
       "<div>\n",
       "<style>\n",
       "    .dataframe thead tr:only-child th {\n",
       "        text-align: right;\n",
       "    }\n",
       "\n",
       "    .dataframe thead th {\n",
       "        text-align: left;\n",
       "    }\n",
       "\n",
       "    .dataframe tbody tr th {\n",
       "        vertical-align: top;\n",
       "    }\n",
       "</style>\n",
       "<table border=\"1\" class=\"dataframe\">\n",
       "  <thead>\n",
       "    <tr style=\"text-align: right;\">\n",
       "      <th></th>\n",
       "      <th>Total Players</th>\n",
       "    </tr>\n",
       "  </thead>\n",
       "  <tbody>\n",
       "    <tr>\n",
       "      <th>0</th>\n",
       "      <td>612</td>\n",
       "    </tr>\n",
       "  </tbody>\n",
       "</table>\n",
       "</div>"
      ],
      "text/plain": [
       "   Total Players\n",
       "0            612"
      ]
     },
     "execution_count": 67,
     "metadata": {},
     "output_type": "execute_result"
    }
   ],
   "source": [
    "#Total number of players\n",
    "unique_players = purchase_record.drop_duplicates('SN')\n",
    "total_players = len(unique_players)\n",
    "#total_players = len(purchase_record['SN'].unique())\n",
    "total_players_table = pd.DataFrame({\"Total Players\":[total_players]})\n",
    "total_players_table"
   ]
  },
  {
   "cell_type": "code",
   "execution_count": 94,
   "metadata": {},
   "outputs": [
    {
     "data": {
      "text/html": [
       "<style  type=\"text/css\" >\n",
       "</style>  \n",
       "<table id=\"T_6dc09f3a_c053_11e7_9e62_e4a4711df334\" > \n",
       "<thead>    <tr> \n",
       "        <th class=\"blank level0\" ></th> \n",
       "        <th class=\"col_heading level0 col0\" >Average Price</th> \n",
       "        <th class=\"col_heading level0 col1\" >Number of Purchases</th> \n",
       "        <th class=\"col_heading level0 col2\" >Number of Unique Items</th> \n",
       "        <th class=\"col_heading level0 col3\" >Total Revenue</th> \n",
       "    </tr></thead> \n",
       "<tbody>    <tr> \n",
       "        <th id=\"T_6dc09f3a_c053_11e7_9e62_e4a4711df334level0_row0\" class=\"row_heading level0 row0\" >0</th> \n",
       "        <td id=\"T_6dc09f3a_c053_11e7_9e62_e4a4711df334row0_col0\" class=\"data row0 col0\" >$2.93</td> \n",
       "        <td id=\"T_6dc09f3a_c053_11e7_9e62_e4a4711df334row0_col1\" class=\"data row0 col1\" >858</td> \n",
       "        <td id=\"T_6dc09f3a_c053_11e7_9e62_e4a4711df334row0_col2\" class=\"data row0 col2\" >180</td> \n",
       "        <td id=\"T_6dc09f3a_c053_11e7_9e62_e4a4711df334row0_col3\" class=\"data row0 col3\" >$2514.43</td> \n",
       "    </tr></tbody> \n",
       "</table> "
      ],
      "text/plain": [
       "<pandas.io.formats.style.Styler at 0x2084705b588>"
      ]
     },
     "execution_count": 94,
     "metadata": {},
     "output_type": "execute_result"
    }
   ],
   "source": [
    "#Number of unique items\n",
    "unique_items = len(purchase_record['Item Name'].unique())\n",
    "\n",
    "#Average purchase price\n",
    "avg_price = round(purchase_record['Price'].mean(), 2)\n",
    "\n",
    "#Total number of purchases\n",
    "total_purchases = len(purchase_record.index)\n",
    "\n",
    "#Total Revenue\n",
    "total_revenue = round(purchase_record['Price'].sum(), 2)\n",
    "\n",
    "#Summary - Purchasing Analysis (Total)\n",
    "total_analysis_table = pd.DataFrame({\"Number of Unique Items\":[unique_items],\n",
    "                                     \"Average Price\":[avg_price],\n",
    "                                     \"Number of Purchases\":[total_purchases],\n",
    "                                     \"Total Revenue\":[total_revenue]})\n",
    "total_analysis_table = total_analysis_table.style.format({'Average Price':'${}','Total Revenue':'${}'})\n",
    "total_analysis_table"
   ]
  },
  {
   "cell_type": "code",
   "execution_count": 84,
   "metadata": {},
   "outputs": [
    {
     "data": {
      "text/html": [
       "<div>\n",
       "<style>\n",
       "    .dataframe thead tr:only-child th {\n",
       "        text-align: right;\n",
       "    }\n",
       "\n",
       "    .dataframe thead th {\n",
       "        text-align: left;\n",
       "    }\n",
       "\n",
       "    .dataframe tbody tr th {\n",
       "        vertical-align: top;\n",
       "    }\n",
       "</style>\n",
       "<table border=\"1\" class=\"dataframe\">\n",
       "  <thead>\n",
       "    <tr style=\"text-align: right;\">\n",
       "      <th></th>\n",
       "      <th>Percentage of Players</th>\n",
       "      <th>Total Count</th>\n",
       "    </tr>\n",
       "    <tr>\n",
       "      <th>Gender</th>\n",
       "      <th></th>\n",
       "      <th></th>\n",
       "    </tr>\n",
       "  </thead>\n",
       "  <tbody>\n",
       "    <tr>\n",
       "      <th>Male</th>\n",
       "      <td>80.88</td>\n",
       "      <td>495</td>\n",
       "    </tr>\n",
       "    <tr>\n",
       "      <th>Female</th>\n",
       "      <td>17.65</td>\n",
       "      <td>108</td>\n",
       "    </tr>\n",
       "    <tr>\n",
       "      <th>Other/Non-Disclosed</th>\n",
       "      <td>1.47</td>\n",
       "      <td>9</td>\n",
       "    </tr>\n",
       "  </tbody>\n",
       "</table>\n",
       "</div>"
      ],
      "text/plain": [
       "                     Percentage of Players  Total Count\n",
       "Gender                                                 \n",
       "Male                                 80.88          495\n",
       "Female                               17.65          108\n",
       "Other/Non-Disclosed                   1.47            9"
      ]
     },
     "execution_count": 84,
     "metadata": {},
     "output_type": "execute_result"
    }
   ],
   "source": [
    "#Gender Demographics\n",
    "\n",
    "genders = purchase_record['Gender'].unique()\n",
    "gender_count, gender_percent = [], []\n",
    "\n",
    "for x in genders:\n",
    "    gender_unique = unique_players.loc[unique_players['Gender']==x,:]\n",
    "    gender_count.append(len(gender_unique))\n",
    "\n",
    "gender_percent = [round((a/total_players)*100, 2) for a in gender_count]\n",
    "\n",
    "\n",
    "gender_demo_table = pd.DataFrame({\"Gender\":[\"Male\",\"Female\",\"Other/Non-Disclosed\"],\n",
    "                                  \"Percentage of Players\": [gender_percent[0], gender_percent[1], gender_percent[2]],\n",
    "                                  \"Total Count\":[gender_count[0], gender_count[1], gender_count[2]]})\n",
    "\n",
    "gender_demo_table = gender_demo_table.set_index('Gender')\n",
    "gender_demo_table"
   ]
  },
  {
   "cell_type": "code",
   "execution_count": 107,
   "metadata": {},
   "outputs": [
    {
     "data": {
      "text/html": [
       "<style  type=\"text/css\" >\n",
       "</style>  \n",
       "<table id=\"T_a735b80a_c054_11e7_84d9_e4a4711df334\" > \n",
       "<thead>    <tr> \n",
       "        <th class=\"blank level0\" ></th> \n",
       "        <th class=\"col_heading level0 col0\" >Purchase Count</th> \n",
       "        <th class=\"col_heading level0 col1\" >Average Purchase Price</th> \n",
       "        <th class=\"col_heading level0 col2\" >Total Purchase Value</th> \n",
       "        <th class=\"col_heading level0 col3\" >Normalized Totals</th> \n",
       "    </tr>    <tr> \n",
       "        <th class=\"index_name level0\" >Gender</th> \n",
       "        <th class=\"blank\" ></th> \n",
       "        <th class=\"blank\" ></th> \n",
       "        <th class=\"blank\" ></th> \n",
       "        <th class=\"blank\" ></th> \n",
       "    </tr></thead> \n",
       "<tbody>    <tr> \n",
       "        <th id=\"T_a735b80a_c054_11e7_84d9_e4a4711df334level0_row0\" class=\"row_heading level0 row0\" >Male</th> \n",
       "        <td id=\"T_a735b80a_c054_11e7_84d9_e4a4711df334row0_col0\" class=\"data row0 col0\" >697</td> \n",
       "        <td id=\"T_a735b80a_c054_11e7_84d9_e4a4711df334row0_col1\" class=\"data row0 col1\" >$2.94</td> \n",
       "        <td id=\"T_a735b80a_c054_11e7_84d9_e4a4711df334row0_col2\" class=\"data row0 col2\" >$2052.28</td> \n",
       "        <td id=\"T_a735b80a_c054_11e7_84d9_e4a4711df334row0_col3\" class=\"data row0 col3\" >$4.15</td> \n",
       "    </tr>    <tr> \n",
       "        <th id=\"T_a735b80a_c054_11e7_84d9_e4a4711df334level0_row1\" class=\"row_heading level0 row1\" >Female</th> \n",
       "        <td id=\"T_a735b80a_c054_11e7_84d9_e4a4711df334row1_col0\" class=\"data row1 col0\" >149</td> \n",
       "        <td id=\"T_a735b80a_c054_11e7_84d9_e4a4711df334row1_col1\" class=\"data row1 col1\" >$2.85</td> \n",
       "        <td id=\"T_a735b80a_c054_11e7_84d9_e4a4711df334row1_col2\" class=\"data row1 col2\" >$424.29</td> \n",
       "        <td id=\"T_a735b80a_c054_11e7_84d9_e4a4711df334row1_col3\" class=\"data row1 col3\" >$3.93</td> \n",
       "    </tr>    <tr> \n",
       "        <th id=\"T_a735b80a_c054_11e7_84d9_e4a4711df334level0_row2\" class=\"row_heading level0 row2\" >Other / Non-Disclosed</th> \n",
       "        <td id=\"T_a735b80a_c054_11e7_84d9_e4a4711df334row2_col0\" class=\"data row2 col0\" >12</td> \n",
       "        <td id=\"T_a735b80a_c054_11e7_84d9_e4a4711df334row2_col1\" class=\"data row2 col1\" >$3.15</td> \n",
       "        <td id=\"T_a735b80a_c054_11e7_84d9_e4a4711df334row2_col2\" class=\"data row2 col2\" >$37.86</td> \n",
       "        <td id=\"T_a735b80a_c054_11e7_84d9_e4a4711df334row2_col3\" class=\"data row2 col3\" >$4.21</td> \n",
       "    </tr></tbody> \n",
       "</table> "
      ],
      "text/plain": [
       "<pandas.io.formats.style.Styler at 0x2084703dcf8>"
      ]
     },
     "execution_count": 107,
     "metadata": {},
     "output_type": "execute_result"
    }
   ],
   "source": [
    "#Purchasing Analysis - Gender\n",
    "\n",
    "gender_pcount, gender_totvalue = [], []\n",
    "\n",
    "for x in genders:\n",
    "    gender_purchases = purchase_record.loc[purchase_record['Gender']==x,:]\n",
    "    gender_pcount.append(len(gender_purchases))\n",
    "    gender_totvalue.append(round(gender_purchases['Price'].sum(), 2))\n",
    "\n",
    "gender_avgprice = [round(a/b, 2) for a,b in zip(gender_totvalue, gender_pcount)]\n",
    "gender_norm = [round(a/b, 2) for a,b in zip(gender_totvalue, gender_count)]\n",
    "\n",
    "gender_analysis_table = pd.DataFrame({\"Gender\":[genders[0],genders[1],genders[2]],\n",
    "                                      \"Purchase Count\":[gender_pcount[0],gender_pcount[1],gender_pcount[2]],\n",
    "                                      \"Average Purchase Price\":[gender_avgprice[0],gender_avgprice[1],gender_avgprice[2]],\n",
    "                                      \"Total Purchase Value\":[gender_totvalue[0],gender_totvalue[1],gender_totvalue[2]],\n",
    "                                      \"Normalized Totals\":[gender_norm[0],gender_norm[1],gender_norm[2]]})\n",
    "\n",
    "gender_analysis_table = gender_analysis_table[['Gender',\n",
    "                                               'Purchase Count',\n",
    "                                               'Average Purchase Price',\n",
    "                                               'Total Purchase Value',\n",
    "                                               'Normalized Totals']]\n",
    "\n",
    "gender_analysis_table = gender_analysis_table.set_index('Gender').style.format({'Average Purchase Price':'${}',\n",
    "                                                                                'Total Purchase Value':'${}',\n",
    "                                                                                'Normalized Totals':'${}'})\n",
    "\n",
    "gender_analysis_table"
   ]
  },
  {
   "cell_type": "code",
   "execution_count": 62,
   "metadata": {},
   "outputs": [
    {
     "data": {
      "text/plain": [
       "[0.59847035977062402,\n",
       " -0.96993472100756284,\n",
       " -0.81515790382550501,\n",
       " -1.2278960829776593,\n",
       " 0.8770686306983283,\n",
       " 0.12382145374564645,\n",
       " 0.84611326726191638,\n",
       " 0.66038108664344719,\n",
       " 1.1350299926684249,\n",
       " -1.3104437188080904,\n",
       " 1.207259174020052,\n",
       " -1.0628008113167975]"
      ]
     },
     "execution_count": 62,
     "metadata": {},
     "output_type": "execute_result"
    }
   ],
   "source": [
    "gtest = purchase_record.loc[purchase_record['Gender']=='Other / Non-Disclosed',:]\n",
    "gtest_std = gtest['Price'].std()\n",
    "\n",
    "gtest_norm = [(i-3.15)/gtest_std for i in gtest['Price']]\n",
    "gtest_norm"
   ]
  },
  {
   "cell_type": "code",
   "execution_count": 72,
   "metadata": {},
   "outputs": [
    {
     "name": "stdout",
     "output_type": "stream",
     "text": [
      "[697, 149, 12]\n",
      "[2052.28, 424.29, 37.86]\n",
      "[2.94, 2.85, 3.15]\n"
     ]
    }
   ],
   "source": [
    "##Age Demographics##\n",
    "\n",
    "gendertest = purchase_record['Gender'].unique()\n",
    "gender_pcount, gender_totvalue = [], []\n",
    "\n",
    "for x in gendertest:\n",
    "    gender_purchases = purchase_record.loc[purchase_record['Gender']==x,:]\n",
    "    gender_pcount.append(len(gender_purchases))\n",
    "    gender_totvalue.append(round(gender_purchases['Price'].sum(), 2))\n",
    "\n",
    "gender_avgprice = [round(a/b, 2) for a,b in zip(gender_totvalue, gender_pcount)]\n",
    "\n",
    "print(gender_pcount)\n",
    "print(gender_totvalue)\n",
    "print(gender_avgprice)"
   ]
  },
  {
   "cell_type": "code",
   "execution_count": 86,
   "metadata": {},
   "outputs": [
    {
     "data": {
      "text/plain": [
       "'Female'"
      ]
     },
     "execution_count": 86,
     "metadata": {},
     "output_type": "execute_result"
    }
   ],
   "source": [
    "genders[1]"
   ]
  },
  {
   "cell_type": "code",
   "execution_count": null,
   "metadata": {
    "collapsed": true
   },
   "outputs": [],
   "source": []
  }
 ],
 "metadata": {
  "kernelspec": {
   "display_name": "Python 3",
   "language": "python",
   "name": "python3"
  },
  "language_info": {
   "codemirror_mode": {
    "name": "ipython",
    "version": 3
   },
   "file_extension": ".py",
   "mimetype": "text/x-python",
   "name": "python",
   "nbconvert_exporter": "python",
   "pygments_lexer": "ipython3",
   "version": "3.6.2"
  }
 },
 "nbformat": 4,
 "nbformat_minor": 2
}
